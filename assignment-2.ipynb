{
 "cells": [
  {
   "cell_type": "code",
   "execution_count": 13,
   "metadata": {},
   "outputs": [
    {
     "name": "stdout",
     "output_type": "stream",
     "text": [
      "10\n"
     ]
    }
   ],
   "source": [
    "#Task 1 - Q1.1\n",
    "#Python Program to implement your own myreduce() function which works exactly like Python's built-in function reduce() \n",
    "def myreduce(fun, list1):\n",
    "    a=list1[0]\n",
    "    for i in range(1,len(list1)):\n",
    "        a=fun(a,list1[i])\n",
    "    return a\n",
    "\n",
    "x=myreduce(lambda m,n:m+n, [1,2,3,4])\n",
    "print(x)  "
   ]
  },
  {
   "cell_type": "code",
   "execution_count": 14,
   "metadata": {},
   "outputs": [
    {
     "name": "stdout",
     "output_type": "stream",
     "text": [
      "[2, 4]\n",
      "[3, 5]\n",
      "[3, 6]\n"
     ]
    }
   ],
   "source": [
    "#Task 1 - Q1.2\n",
    "# Python program to implement myfilter() function which works exactly like Python's built-in function filter() \n",
    "def myfilter(fun,list1):\n",
    "    b=[]\n",
    "    for i in range(1,len(list1)):\n",
    "        a=fun(list1[i])\n",
    "        if a==True:\n",
    "            b.append(list1[i])\n",
    "    return list(b)  \n",
    "\n",
    "x=myfilter(lambda x:x%2==0, [1,2,3,4,5])\n",
    "print(x)\n",
    "y=myfilter(lambda x:x%2,[1,2,3,4,5])\n",
    "print(y)\n",
    "z=myfilter(lambda x:x%3==0,[1,2,3,4,5,6])\n",
    "print(z)\n"
   ]
  },
  {
   "cell_type": "code",
   "execution_count": 15,
   "metadata": {},
   "outputs": [
    {
     "name": "stdout",
     "output_type": "stream",
     "text": [
      "['A', 'C', 'A', 'D', 'G', 'I', 'L', 'D']\n",
      "['x', 'xx', 'xxx', 'xxxx', 'y', 'yy', 'yyy', 'yyyy', 'z', 'zz', 'zzz', 'zzzz']\n",
      "['x', 'y', 'z', 'xx', 'yy', 'zz', 'xxx', 'yyy', 'zzz', 'xxxx', 'yyyy', 'zzzz']\n",
      "[[2], [3], [4], [3], [4], [5], [4], [5], [6]]\n",
      "[[2, 3, 4, 5], [3, 4, 5, 6], [4, 5, 6, 7], [5, 6, 7, 8]]\n",
      "[(1, 1), (2, 1), (3, 1), (1, 2), (2, 2), (3, 2), (1, 3), (2, 3), (3, 3)]\n"
     ]
    }
   ],
   "source": [
    "#Task 1 - Q2\n",
    "#Implement List comprehensions to produce the following lists\n",
    "\n",
    "#['A', 'C', 'A', 'D', 'G', 'I', ’L’, ‘ D’] \n",
    "print([i for i in \"ACADGILD\"])\n",
    "\n",
    "#['x', 'xx', 'xxx', 'xxxx', 'y', 'yy', 'yyy', 'yyyy', 'z', 'zz', 'zzz', 'zzzz'] \n",
    "print([i*j for i in 'xyz' for j in range(1,5)])\n",
    "\n",
    "#['x', 'y', 'z', 'xx', 'yy', 'zz', 'xx', 'yy', 'zz', 'xxxx', 'yyyy', 'zzzz'] \n",
    "print([i*j for j in range(1,5) for i in 'xyz'])\n",
    "\n",
    "#[[2], [3], [4], [3], [4], [5], [4], [5], [6]]\n",
    "print([[i+j] for i in range(1,4) for j in range(1,4)])\n",
    "\n",
    "#[[2, 3, 4, 5], [3, 4, 5, 6], [4, 5, 6, 7], [5, 6, 7, 8]] \n",
    "print([[i+j for i in range(1,5)] for j in range(1,5)])\n",
    "\n",
    "#[(1, 1), (2, 1), (3, 1), (1, 2), (2, 2), (3, 2), (1, 3), (2, 3), (3, 3)] \n",
    "print([(j,i) for i in range(1,4) for j in range(1,4)])"
   ]
  },
  {
   "cell_type": "code",
   "execution_count": 16,
   "metadata": {},
   "outputs": [
    {
     "name": "stdout",
     "output_type": "stream",
     "text": [
      "longest word in the list is: three\n"
     ]
    }
   ],
   "source": [
    "#Task 1 - Q3\n",
    "#Implement a function longestWord() that takes a list of words and returns the longest one\n",
    "def longest_word(list1):\n",
    "    long_word=list1[0]\n",
    "    for i in range(1,len(list1)):\n",
    "        if len(list1[i])>len(long_word):\n",
    "            long_word=list1[i]\n",
    "        else:\n",
    "            continue\n",
    "    print(\"longest word in the list is: {}\".format(long_word))\n",
    "\n",
    "longest_word(['one','two','three','four'])           \n"
   ]
  },
  {
   "cell_type": "code",
   "execution_count": 17,
   "metadata": {},
   "outputs": [
    {
     "name": "stdout",
     "output_type": "stream",
     "text": [
      "enter lenght of side1:5\n",
      "enter lenght of side2:6\n",
      "enter lenght of side3:7\n",
      "area is : 14.696938456699069\n"
     ]
    }
   ],
   "source": [
    "#Task 2: Q-1.1  \n",
    "#Python Program(with class concepts) to find the area of the triangle using formula area = (s*(s-a)*(s-b)*(s-c)) ** 0.5 \n",
    "class Length_Sides():\n",
    "    x=0\n",
    "    y=0\n",
    "    z=0\n",
    "    def __init__(self):\n",
    "        Length_Sides.x=int(input(\"enter lenght of side1:\"))\n",
    "        Length_Sides.y=int(input(\"enter lenght of side2:\"))\n",
    "        Length_Sides.z=int(input(\"enter lenght of side3:\"))\n",
    "        \n",
    "class Area(Length_Sides):\n",
    "    def area(self):\n",
    "        a,b,c=Length_Sides.x,Length_Sides.y,Length_Sides.z\n",
    "        #print(Length_Sides.sides.side1)\n",
    "        s=(a+b+c)/2\n",
    "        ar=(s*(s-a)*(s-b)*(s-c))**0.5\n",
    "        print(\"area is : {}\".format(ar))\n",
    "        \n",
    "        \n",
    "a=Area()\n",
    "a.area()"
   ]
  },
  {
   "cell_type": "code",
   "execution_count": 7,
   "metadata": {},
   "outputs": [
    {
     "name": "stdout",
     "output_type": "stream",
     "text": [
      "how many words you want to enter : 4\n",
      "enter word 1one\n",
      "enter word 2two\n",
      "enter word 3three\n",
      "enter word 4four\n",
      "more than what length of words you want to be printed : 3\n"
     ]
    },
    {
     "data": {
      "text/plain": [
       "['three', 'four']"
      ]
     },
     "execution_count": 7,
     "metadata": {},
     "output_type": "execute_result"
    }
   ],
   "source": [
    "#Task 2 - Q 1.2\n",
    "#function to filter_long_words() that takes a list of words and an integer n and returns the list of words that are longer than n. \n",
    "\n",
    "def filter_long_words(x,n):\n",
    "    \n",
    "    list1=[i for i in x if len(i)>n]\n",
    "    return(list1)\n",
    "\n",
    "x=[]\n",
    "y=int(input(\"how many words you want to enter : \"))\n",
    "for i in range(0,y):\n",
    "    word=input(\"enter word {}\".format(i+1))\n",
    "    x.append(word)\n",
    "z=int(input(\"more than what length of words you want to be printed : \"))\n",
    "\n",
    "filter_long_words(x,z)\n",
    "\n"
   ]
  },
  {
   "cell_type": "code",
   "execution_count": 4,
   "metadata": {},
   "outputs": [
    {
     "name": "stdout",
     "output_type": "stream",
     "text": [
      "how many words you want to enter : 3\n",
      "enter word 1one\n",
      "enter word 2four\n",
      "enter word 3three\n",
      "Len of words is [3, 4, 5]\n"
     ]
    }
   ],
   "source": [
    "#Task2 - Q - 2.1\n",
    "# Python program using function concept that maps  list of words into a list of integers representing the lengths of the corresponding words​.\n",
    "\n",
    "def map_words(list1):\n",
    "    x=[]\n",
    "    for i in list1:\n",
    "        x.append(len(i))\n",
    "    return x\n",
    "\n",
    "y=int(input(\"how many words you want to enter : \"))\n",
    "x=[]\n",
    "for i in range(0,y):\n",
    "    word=input(\"enter word {}\".format(i+1))\n",
    "    x.append(word)\n",
    "    \n",
    "list2=map_words(x)\n",
    "print(\"Len of words is {}\".format(list2))\n",
    "\n"
   ]
  },
  {
   "cell_type": "code",
   "execution_count": 9,
   "metadata": {},
   "outputs": [
    {
     "name": "stdout",
     "output_type": "stream",
     "text": [
      "enter a character :i\n",
      "you have entered a vowel\n"
     ]
    }
   ],
   "source": [
    "#Task 2 - Q 2.2\n",
    "#Write a Python function which takes a character (i.e. a string of length 1) and returns True if it is a vowel, False otherwise\n",
    "\n",
    "def char_map(x):\n",
    "    if x in ['a','e','i','o','u']:\n",
    "        return True\n",
    "    else:\n",
    "        return False\n",
    "    \n",
    "char=input(\"enter a character :\")\n",
    "if len(char)>1:\n",
    "    print(\"you have not entered a character\")\n",
    "else:\n",
    "    vow=char_map(char.lower())\n",
    "    if vow==True:\n",
    "        print(\"you have entered a vowel\")\n",
    "    else:\n",
    "        print(\" char you have entered is not a vowel\")"
   ]
  },
  {
   "cell_type": "code",
   "execution_count": null,
   "metadata": {},
   "outputs": [],
   "source": []
  }
 ],
 "metadata": {
  "kernelspec": {
   "display_name": "Python 3",
   "language": "python",
   "name": "python3"
  },
  "language_info": {
   "codemirror_mode": {
    "name": "ipython",
    "version": 3
   },
   "file_extension": ".py",
   "mimetype": "text/x-python",
   "name": "python",
   "nbconvert_exporter": "python",
   "pygments_lexer": "ipython3",
   "version": "3.7.3"
  }
 },
 "nbformat": 4,
 "nbformat_minor": 2
}
